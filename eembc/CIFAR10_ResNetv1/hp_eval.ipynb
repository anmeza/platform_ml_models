{
 "cells": [
  {
   "cell_type": "code",
   "execution_count": 1,
   "metadata": {},
   "outputs": [],
   "source": [
    "import pandas as pd\n",
    "import pickle"
   ]
  },
  {
   "cell_type": "code",
   "execution_count": 2,
   "metadata": {},
   "outputs": [],
   "source": [
    "results = []\n",
    "with (open(\"results.pkl\", \"rb\")) as openfile:\n",
    "    while True:\n",
    "        try:\n",
    "            results.append(pickle.load(openfile))\n",
    "        except EOFError:\n",
    "            break"
   ]
  },
  {
   "cell_type": "code",
   "execution_count": 3,
   "metadata": {},
   "outputs": [
    {
     "name": "stdout",
     "output_type": "stream",
     "text": [
      "[{'filters0': array([128,  32,  64,  32, 128,  16,  32, 128,  32,  16,  32,  64,  64,\n",
      "         2,  16, 128, 128,  32, 128, 128,  64,  16,   4,  16,  16,  16,\n",
      "         8,   8,   8,  16, 128,   8, 128,   8,  16,  16,  64,   2,  16,\n",
      "        16,  32,   2,   2,   4,   4,   4,   8, 128,  32, 128,  16,  32,\n",
      "         4,  16,  32,   8,   4,   4,   4,  16,  16,   2,   4,  16,   2,\n",
      "         2,  16,   8,   8,   2,   8,   2,   8,   8,   4,   4,  16,   2,\n",
      "         2,   2,  16,  32,   2,   2,   2,   2,  64,   8,  64,  64,   8,\n",
      "         4,   4,   2,   4,   2,   2, 128, 128,  32]), 'filters1': array([32, 32, 64, 32, 32, 64, 32, 16, 64, 32, 32, 16,  8, 64, 16, 32, 16,\n",
      "        4, 64, 32, 64,  4, 64, 32,  8,  4, 64, 32, 16,  4, 16, 64, 32, 32,\n",
      "       32, 16, 64, 64, 32,  4,  8, 16, 16, 16, 64, 32,  4, 64, 32,  4,  2,\n",
      "       32, 16, 64,  4,  4, 32, 16,  8,  8,  4, 32, 64,  4, 32, 32,  2,  2,\n",
      "        2,  8,  8,  4,  2,  2,  2,  2,  2,  2,  8,  4,  4,  8,  2,  2,  2,\n",
      "        4, 32, 64, 16, 64, 64,  2, 32, 64,  2, 16, 16,  4,  2,  4]), 'filters2': array([ 4, 32, 64, 32,  2, 32, 32,  8, 32, 64,  2,  4, 16,  2,  2, 64,  2,\n",
      "       64,  8,  8, 32,  2, 16,  8, 16,  2, 16,  8, 32, 16, 64, 16, 64,  8,\n",
      "       64,  8,  8,  2,  4,  4,  2, 32, 64, 32,  2, 64,  8, 32,  4,  8,  2,\n",
      "        8, 16,  2,  8,  4,  2, 16,  4, 16, 64, 32,  4, 16,  4, 64, 16, 64,\n",
      "        4,  8, 16, 64,  8,  4, 32, 32,  2,  8,  8,  8,  2, 16, 32,  4, 16,\n",
      "        8,  2, 32,  8, 32,  2, 16, 64,  8,  2,  8, 32,  8, 64,  2]), 'kernelsize0': array([3, 3, 2, 3, 2, 3, 2, 2, 2, 3, 2, 3, 3, 3, 2, 3, 3, 3, 2, 2, 3, 3,\n",
      "       3, 2, 2, 3, 3, 2, 2, 2, 1, 2, 1, 2, 3, 1, 1, 3, 2, 3, 2, 3, 3, 2,\n",
      "       1, 1, 3, 1, 1, 1, 3, 1, 1, 1, 1, 3, 2, 1, 1, 1, 1, 3, 1, 1, 2, 2,\n",
      "       1, 2, 2, 1, 1, 3, 1, 2, 2, 2, 1, 3, 1, 1, 1, 1, 2, 1, 2, 1, 1, 1,\n",
      "       1, 1, 1, 1, 1, 1, 2, 1, 1, 1, 1, 3]), 'kernelsize1': array([1, 1, 3, 3, 2, 3, 1, 3, 2, 2, 2, 3, 1, 3, 3, 2, 1, 1, 1, 2, 3, 1,\n",
      "       2, 2, 3, 1, 2, 2, 1, 3, 3, 3, 2, 2, 2, 3, 3, 3, 3, 2, 1, 1, 2, 2,\n",
      "       3, 3, 3, 2, 2, 3, 1, 2, 3, 2, 3, 2, 2, 3, 3, 2, 3, 2, 2, 2, 2, 2,\n",
      "       3, 3, 3, 3, 2, 3, 3, 3, 2, 2, 2, 3, 1, 2, 1, 1, 2, 1, 2, 2, 1, 1,\n",
      "       1, 1, 1, 2, 1, 1, 3, 1, 1, 2, 3, 3]), 'strides0': array([1, 1, 1, 1, 1, 1, 1, 1, 1, 1, 1, 4, 4, 1, 1, 4, 4, 1, 4, 4, 4, 1,\n",
      "       1, 4, 1, 1, 4, 1, 1, 1, 4, 4, 1, 4, 4, 4, 1, 4, 4, 4, 4, 1, 1, 1,\n",
      "       4, 4, 4, 4, 4, 1, 1, 4, 4, 4, 4, 4, 4, 4, 4, 4, 4, 4, 1, 1, 4, 4,\n",
      "       4, 1, 1, 4, 1, 4, 1, 4, 1, 1, 1, 4, 1, 1, 4, 1, 1, 1, 1, 4, 4, 4,\n",
      "       4, 4, 4, 4, 4, 4, 4, 4, 4, 4, 1, 4]), 'strides1': array([4, 3, 2, 3, 4, 3, 2, 3, 3, 4, 2, 3, 3, 2, 4, 4, 4, 4, 2, 2, 4, 3,\n",
      "       4, 2, 3, 2, 3, 2, 2, 3, 3, 3, 2, 2, 4, 3, 4, 2, 4, 3, 3, 2, 3, 4,\n",
      "       2, 2, 2, 3, 4, 3, 4, 4, 3, 3, 2, 4, 3, 4, 3, 4, 4, 4, 3, 2, 3, 3,\n",
      "       3, 4, 2, 2, 4, 2, 2, 2, 3, 2, 3, 2, 2, 3, 2, 4, 4, 2, 4, 4, 3, 4,\n",
      "       3, 4, 4, 3, 3, 4, 4, 3, 3, 2, 2, 3]), 'val_acc': array([0.77410001, 0.72119999, 0.71759999, 0.70609999, 0.67869997,\n",
      "       0.67379999, 0.667     , 0.66299999, 0.65880001, 0.64300001,\n",
      "       0.62110001, 0.61210001, 0.6056    , 0.59420002, 0.59020001,\n",
      "       0.58450001, 0.58109999, 0.57959998, 0.57169998, 0.57139999,\n",
      "       0.57139999, 0.55769998, 0.54960001, 0.53500003, 0.52420002,\n",
      "       0.5219    , 0.5212    , 0.5201    , 0.51779997, 0.50989997,\n",
      "       0.509     , 0.50739998, 0.50300002, 0.49959999, 0.49759999,\n",
      "       0.49419999, 0.49419999, 0.49039999, 0.48910001, 0.4788    ,\n",
      "       0.4675    , 0.45879999, 0.44800001, 0.44310001, 0.44190001,\n",
      "       0.44139999, 0.43709999, 0.43439999, 0.4251    , 0.41819999,\n",
      "       0.41670001, 0.41330001, 0.40920001, 0.40799999, 0.38440001,\n",
      "       0.38330001, 0.38280001, 0.3766    , 0.37599999, 0.37349999,\n",
      "       0.36160001, 0.36039999, 0.3601    , 0.3466    , 0.33660001,\n",
      "       0.32929999, 0.32480001, 0.32359999, 0.32089999, 0.3195    ,\n",
      "       0.31290001, 0.31240001, 0.3116    , 0.30700001, 0.3021    ,\n",
      "       0.30109999, 0.28049999, 0.27599999, 0.2647    , 0.2626    ,\n",
      "       0.2595    , 0.25729999, 0.25600001, 0.2349    , 0.2305    ,\n",
      "       0.22480001, 0.2165    , 0.21510001, 0.2147    , 0.213     ,\n",
      "       0.2114    , 0.20379999, 0.20379999, 0.2035    , 0.19949999,\n",
      "       0.18970001, 0.185     , 0.1       , 0.1       , 0.1       ]), 'flops': array([651306474,  44850090, 113248074,  47094698, 297043434,  13765674,\n",
      "        23462826, 339870842,  21587594,  11170634,  25428906,   2032890,\n",
      "         1412802,   5328342,   5179866,   4042218,   3569274,  42020262,\n",
      "         3967178,   5449194,   1476426,  11524294,   1179106,    144202,\n",
      "         5702434,  12912838,    138106,   2425626,   1753514,   5669574,\n",
      "         3237498,     77946, 120980970,     57114,    142154,     61402,\n",
      "        23299914,    103302,     85834,    144998,    193922,    633222,\n",
      "          366774,    397714,     37026,     19906,     76470,   1812682,\n",
      "           78762, 111674726,  10947512,     78762,      6802,     52266,\n",
      "          362822,     42486,     20226,      5202,      5594,     21154,\n",
      "           31206,     28614,    286882,   1976518,     13814,     13814,\n",
      "           56096,   1386344,   1831016,      3710,    363762,     11202,\n",
      "          692840,     43784,    409552,    469072,   1523992,     10364,\n",
      "           47310,     36386,     26854,   4789122,    121284,     36420,\n",
      "          121284,      1202,    232554,     16634,    226554,    165706,\n",
      "           16634,      3336,      5634,     11078,      8896,      1990,\n",
      "            1990,   2888582, 160499000,    558150]), 'stacks': array([3, 3, 3, 3, 3, 3, 3, 3, 3, 3, 3, 3, 3, 3, 3, 3, 3, 3, 3, 3, 3, 3,\n",
      "       3, 3, 3, 3, 3, 3, 3, 3, 3, 3, 3, 3, 3, 3, 3, 3, 3, 3, 3, 3, 3, 3,\n",
      "       3, 3, 3, 3, 3, 3, 3, 3, 3, 3, 3, 3, 3, 3, 3, 3, 3, 3, 3, 3, 3, 3,\n",
      "       3, 3, 3, 3, 3, 3, 3, 3, 3, 3, 3, 3, 3, 3, 3, 3, 3, 3, 3, 3, 3, 3,\n",
      "       3, 3, 3, 3, 3, 3, 3, 3, 3, 3, 3, 3])}]\n"
     ]
    }
   ],
   "source": [
    "print(results)\n",
    "results = results[0]"
   ]
  },
  {
   "cell_type": "code",
   "execution_count": 4,
   "metadata": {},
   "outputs": [
    {
     "name": "stdout",
     "output_type": "stream",
     "text": [
      "[128  32  64  32 128  16  32 128  32  16  32  64  64   2  16 128 128  32\n",
      " 128 128  64  16   4  16  16  16   8   8   8  16 128   8 128   8  16  16\n",
      "  64   2  16  16  32   2   2   4   4   4   8 128  32 128  16  32   4  16\n",
      "  32   8   4   4   4  16  16   2   4  16   2   2  16   8   8   2   8   2\n",
      "   8   8   4   4  16   2   2   2  16  32   2   2   2   2  64   8  64  64\n",
      "   8   4   4   2   4   2   2 128 128  32]\n"
     ]
    }
   ],
   "source": [
    "print(results['filters0'])"
   ]
  },
  {
   "cell_type": "code",
   "execution_count": 28,
   "metadata": {},
   "outputs": [
    {
     "name": "stdout",
     "output_type": "stream",
     "text": [
      "[3 3 2 3 2 3 2 2 2 3 2 3 3 3 2 3 3 3 2 2 3 3 3 2 2 3 3 2 2 2 1 2 1 2 3 1 1\n",
      " 3 2 3 2 3 3 2 1 1 3 1 1 1 3 1 1 1 1 3 2 1 1 1 1 3 1 1 2 2 1 2 2 1 1 3 1 2\n",
      " 2 2 1 3 1 1 1 1 2 1 2 1 1 1 1 1 1 1 1 1 2 1 1 1 1 3]\n"
     ]
    }
   ],
   "source": [
    "print(results['kernelsize0'])"
   ]
  },
  {
   "cell_type": "code",
   "execution_count": 5,
   "metadata": {},
   "outputs": [
    {
     "name": "stdout",
     "output_type": "stream",
     "text": [
      "[0.77410001 0.72119999 0.71759999 0.70609999 0.67869997 0.67379999\n",
      " 0.667      0.66299999 0.65880001 0.64300001 0.62110001 0.61210001\n",
      " 0.6056     0.59420002 0.59020001 0.58450001 0.58109999 0.57959998\n",
      " 0.57169998 0.57139999 0.57139999 0.55769998 0.54960001 0.53500003\n",
      " 0.52420002 0.5219     0.5212     0.5201     0.51779997 0.50989997\n",
      " 0.509      0.50739998 0.50300002 0.49959999 0.49759999 0.49419999\n",
      " 0.49419999 0.49039999 0.48910001 0.4788     0.4675     0.45879999\n",
      " 0.44800001 0.44310001 0.44190001 0.44139999 0.43709999 0.43439999\n",
      " 0.4251     0.41819999 0.41670001 0.41330001 0.40920001 0.40799999\n",
      " 0.38440001 0.38330001 0.38280001 0.3766     0.37599999 0.37349999\n",
      " 0.36160001 0.36039999 0.3601     0.3466     0.33660001 0.32929999\n",
      " 0.32480001 0.32359999 0.32089999 0.3195     0.31290001 0.31240001\n",
      " 0.3116     0.30700001 0.3021     0.30109999 0.28049999 0.27599999\n",
      " 0.2647     0.2626     0.2595     0.25729999 0.25600001 0.2349\n",
      " 0.2305     0.22480001 0.2165     0.21510001 0.2147     0.213\n",
      " 0.2114     0.20379999 0.20379999 0.2035     0.19949999 0.18970001\n",
      " 0.185      0.1        0.1        0.1       ]\n"
     ]
    }
   ],
   "source": [
    "print(results['val_acc'])"
   ]
  },
  {
   "cell_type": "code",
   "execution_count": 6,
   "metadata": {},
   "outputs": [],
   "source": [
    "rsdf = pd.DataFrame(results.items())"
   ]
  },
  {
   "cell_type": "code",
   "execution_count": 7,
   "metadata": {},
   "outputs": [
    {
     "data": {
      "text/html": [
       "<div>\n",
       "<style scoped>\n",
       "    .dataframe tbody tr th:only-of-type {\n",
       "        vertical-align: middle;\n",
       "    }\n",
       "\n",
       "    .dataframe tbody tr th {\n",
       "        vertical-align: top;\n",
       "    }\n",
       "\n",
       "    .dataframe thead th {\n",
       "        text-align: right;\n",
       "    }\n",
       "</style>\n",
       "<table border=\"1\" class=\"dataframe\">\n",
       "  <thead>\n",
       "    <tr style=\"text-align: right;\">\n",
       "      <th></th>\n",
       "      <th>0</th>\n",
       "      <th>1</th>\n",
       "    </tr>\n",
       "  </thead>\n",
       "  <tbody>\n",
       "    <tr>\n",
       "      <th>0</th>\n",
       "      <td>filters0</td>\n",
       "      <td>[128, 32, 64, 32, 128, 16, 32, 128, 32, 16, 32...</td>\n",
       "    </tr>\n",
       "    <tr>\n",
       "      <th>1</th>\n",
       "      <td>filters1</td>\n",
       "      <td>[32, 32, 64, 32, 32, 64, 32, 16, 64, 32, 32, 1...</td>\n",
       "    </tr>\n",
       "    <tr>\n",
       "      <th>2</th>\n",
       "      <td>filters2</td>\n",
       "      <td>[4, 32, 64, 32, 2, 32, 32, 8, 32, 64, 2, 4, 16...</td>\n",
       "    </tr>\n",
       "    <tr>\n",
       "      <th>3</th>\n",
       "      <td>kernelsize0</td>\n",
       "      <td>[3, 3, 2, 3, 2, 3, 2, 2, 2, 3, 2, 3, 3, 3, 2, ...</td>\n",
       "    </tr>\n",
       "    <tr>\n",
       "      <th>4</th>\n",
       "      <td>kernelsize1</td>\n",
       "      <td>[1, 1, 3, 3, 2, 3, 1, 3, 2, 2, 2, 3, 1, 3, 3, ...</td>\n",
       "    </tr>\n",
       "    <tr>\n",
       "      <th>5</th>\n",
       "      <td>strides0</td>\n",
       "      <td>[1, 1, 1, 1, 1, 1, 1, 1, 1, 1, 1, 4, 4, 1, 1, ...</td>\n",
       "    </tr>\n",
       "    <tr>\n",
       "      <th>6</th>\n",
       "      <td>strides1</td>\n",
       "      <td>[4, 3, 2, 3, 4, 3, 2, 3, 3, 4, 2, 3, 3, 2, 4, ...</td>\n",
       "    </tr>\n",
       "    <tr>\n",
       "      <th>7</th>\n",
       "      <td>val_acc</td>\n",
       "      <td>[0.7741000056266785, 0.7211999893188477, 0.717...</td>\n",
       "    </tr>\n",
       "    <tr>\n",
       "      <th>8</th>\n",
       "      <td>flops</td>\n",
       "      <td>[651306474, 44850090, 113248074, 47094698, 297...</td>\n",
       "    </tr>\n",
       "    <tr>\n",
       "      <th>9</th>\n",
       "      <td>stacks</td>\n",
       "      <td>[3, 3, 3, 3, 3, 3, 3, 3, 3, 3, 3, 3, 3, 3, 3, ...</td>\n",
       "    </tr>\n",
       "  </tbody>\n",
       "</table>\n",
       "</div>"
      ],
      "text/plain": [
       "             0                                                  1\n",
       "0     filters0  [128, 32, 64, 32, 128, 16, 32, 128, 32, 16, 32...\n",
       "1     filters1  [32, 32, 64, 32, 32, 64, 32, 16, 64, 32, 32, 1...\n",
       "2     filters2  [4, 32, 64, 32, 2, 32, 32, 8, 32, 64, 2, 4, 16...\n",
       "3  kernelsize0  [3, 3, 2, 3, 2, 3, 2, 2, 2, 3, 2, 3, 3, 3, 2, ...\n",
       "4  kernelsize1  [1, 1, 3, 3, 2, 3, 1, 3, 2, 2, 2, 3, 1, 3, 3, ...\n",
       "5     strides0  [1, 1, 1, 1, 1, 1, 1, 1, 1, 1, 1, 4, 4, 1, 1, ...\n",
       "6     strides1  [4, 3, 2, 3, 4, 3, 2, 3, 3, 4, 2, 3, 3, 2, 4, ...\n",
       "7      val_acc  [0.7741000056266785, 0.7211999893188477, 0.717...\n",
       "8        flops  [651306474, 44850090, 113248074, 47094698, 297...\n",
       "9       stacks  [3, 3, 3, 3, 3, 3, 3, 3, 3, 3, 3, 3, 3, 3, 3, ..."
      ]
     },
     "execution_count": 7,
     "metadata": {},
     "output_type": "execute_result"
    }
   ],
   "source": [
    "rsdf"
   ]
  },
  {
   "cell_type": "code",
   "execution_count": 8,
   "metadata": {},
   "outputs": [],
   "source": [
    "f0= results['filters0']\n",
    "f1 = results['filters1']\n",
    "f2 = results['filters2']\n",
    "ks0 = results['kernelsize0']\n",
    "ks1 = results['kernelsize1']\n",
    "strides0 = results['strides0']\n",
    "strides1 = results['strides1']\n",
    "va = results['val_acc']\n",
    "flops = results['flops']"
   ]
  },
  {
   "cell_type": "code",
   "execution_count": 9,
   "metadata": {},
   "outputs": [
    {
     "name": "stdout",
     "output_type": "stream",
     "text": [
      "[128  32  64  32 128  16  32 128  32  16  32  64  64   2  16 128 128  32\n",
      " 128 128  64  16   4  16  16  16   8   8   8  16 128   8 128   8  16  16\n",
      "  64   2  16  16  32   2   2   4   4   4   8 128  32 128  16  32   4  16\n",
      "  32   8   4   4   4  16  16   2   4  16   2   2  16   8   8   2   8   2\n",
      "   8   8   4   4  16   2   2   2  16  32   2   2   2   2  64   8  64  64\n",
      "   8   4   4   2   4   2   2 128 128  32]\n"
     ]
    }
   ],
   "source": [
    "f0_i_128 = []\n",
    "for i in range(len(f0)):\n",
    "    if f0[i] == 128:\n",
    "        f0_i_128.append(i)\n",
    "        \n",
    "print(f0)"
   ]
  },
  {
   "cell_type": "code",
   "execution_count": 10,
   "metadata": {},
   "outputs": [
    {
     "name": "stdout",
     "output_type": "stream",
     "text": [
      "[0, 4, 7, 15, 16, 18, 19, 30, 32, 47, 49, 97, 98]\n"
     ]
    }
   ],
   "source": [
    "print(f0_i_128)"
   ]
  },
  {
   "cell_type": "code",
   "execution_count": 11,
   "metadata": {},
   "outputs": [
    {
     "data": {
      "text/plain": [
       "<matplotlib.collections.PathCollection at 0x7f64a730b710>"
      ]
     },
     "execution_count": 11,
     "metadata": {},
     "output_type": "execute_result"
    },
    {
     "data": {
      "image/png": "[encoded data removed]",
      "text/plain": [
       "<Figure size 432x288 with 1 Axes>"
      ]
     },
     "metadata": {
      "needs_background": "light"
     },
     "output_type": "display_data"
    }
   ],
   "source": [
    "va_f0_128 = va[f0_i_128]\n",
    "f_f0_128 = flops[f0_i_128]\n",
    "\n",
    "import matplotlib.pyplot as plt\n",
    "plt.scatter(f_f0_128,va_f0_128)"
   ]
  },
  {
   "cell_type": "code",
   "execution_count": 12,
   "metadata": {},
   "outputs": [
    {
     "data": {
      "text/plain": [
       "<matplotlib.collections.PathCollection at 0x7f64a7318850>"
      ]
     },
     "execution_count": 12,
     "metadata": {},
     "output_type": "execute_result"
    },
    {
     "data": {
      "image/png": "[encoded data removed]",
      "text/plain": [
       "<Figure size 432x288 with 1 Axes>"
      ]
     },
     "metadata": {
      "needs_background": "light"
     },
     "output_type": "display_data"
    }
   ],
   "source": [
    "f0_i_4 = []\n",
    "for i in range(len(f0)):\n",
    "    if f0[i] == 4:\n",
    "        f0_i_4.append(i)\n",
    "\n",
    "va_f0_4 = va[f0_i_4]\n",
    "f_f0_4 = flops[f0_i_4]\n",
    "\n",
    "plt.scatter(f_f0_4,va_f0_4)"
   ]
  },
  {
   "cell_type": "code",
   "execution_count": 29,
   "metadata": {},
   "outputs": [
    {
     "data": {
      "text/plain": [
       "(0.6, 1.0)"
      ]
     },
     "execution_count": 29,
     "metadata": {},
     "output_type": "execute_result"
    },
    {
     "data": {
      "image/png": "[encoded data removed]",
      "text/plain": [
       "<Figure size 432x288 with 1 Axes>"
      ]
     },
     "metadata": {
      "needs_background": "light"
     },
     "output_type": "display_data"
    }
   ],
   "source": [
    "s0_i_4 = []\n",
    "for i in range(len(strides0)):\n",
    "    if strides0[i] == 4:\n",
    "        s0_i_4.append(i)\n",
    "\n",
    "va_s0_4 = va[s0_i_4]\n",
    "f_s0_4 = flops[s0_i_4]\n",
    "\n",
    "plt.scatter(f_s0_4,va_s0_4)\n",
    "plt.ylim(0.6,1)"
   ]
  },
  {
   "cell_type": "code",
   "execution_count": 14,
   "metadata": {},
   "outputs": [
    {
     "data": {
      "text/plain": [
       "(0.6, 1.0)"
      ]
     },
     "execution_count": 14,
     "metadata": {},
     "output_type": "execute_result"
    },
    {
     "data": {
      "image/png": "[encoded data removed]",
      "text/plain": [
       "<Figure size 432x288 with 1 Axes>"
      ]
     },
     "metadata": {
      "needs_background": "light"
     },
     "output_type": "display_data"
    }
   ],
   "source": [
    "s0_i_1 = []\n",
    "for i in range(len(strides0)):\n",
    "    if strides0[i] == 1:\n",
    "        s0_i_1.append(i)\n",
    "\n",
    "va_s0_1 = va[s0_i_1]\n",
    "f_s0_1 = flops[s0_i_1]\n",
    "\n",
    "plt.scatter(f_s0_1,va_s0_1)\n",
    "#plt.xlim(1*(10**4),1*(10**8))\n",
    "plt.ylim(0.6,1)"
   ]
  },
  {
   "cell_type": "code",
   "execution_count": 20,
   "metadata": {},
   "outputs": [
    {
     "data": {
      "text/plain": [
       "<matplotlib.collections.PathCollection at 0x7f649f006290>"
      ]
     },
     "execution_count": 20,
     "metadata": {},
     "output_type": "execute_result"
    },
    {
     "data": {
      "image/png": "[encoded data removed]",
      "text/plain": [
       "<Figure size 432x288 with 1 Axes>"
      ]
     },
     "metadata": {
      "needs_background": "light"
     },
     "output_type": "display_data"
    }
   ],
   "source": [
    "k0_i_1 = []\n",
    "for i in range(len(ks0)):\n",
    "    if ks0[i] == 1:\n",
    "        k0_i_1.append(i)\n",
    "\n",
    "va_k0_1 = va[k0_i_1]\n",
    "f_k0_1 = flops[k0_i_1]\n",
    "\n",
    "plt.scatter(f_k0_1,va_k0_1)\n",
    "#plt.xlim(1*(10**4),1*(10**8))\n",
    "#plt.ylim(0.6,1)"
   ]
  },
  {
   "cell_type": "code",
   "execution_count": 22,
   "metadata": {},
   "outputs": [
    {
     "data": {
      "text/plain": [
       "(0.6, 1.0)"
      ]
     },
     "execution_count": 22,
     "metadata": {},
     "output_type": "execute_result"
    },
    {
     "data": {
      "image/png": "[encoded data removed]",
      "text/plain": [
       "<Figure size 432x288 with 1 Axes>"
      ]
     },
     "metadata": {
      "needs_background": "light"
     },
     "output_type": "display_data"
    }
   ],
   "source": [
    "k0_i_2 = []\n",
    "for i in range(len(ks0)):\n",
    "    if ks0[i] == 2:\n",
    "        k0_i_2.append(i)\n",
    "\n",
    "va_k0_2 = va[k0_i_2]\n",
    "f_k0_2 = flops[k0_i_2]\n",
    "\n",
    "plt.scatter(f_k0_2,va_k0_2)\n",
    "#plt.xlim(1*(10**4),1*(10**8))\n",
    "plt.ylim(0.6,1)"
   ]
  },
  {
   "cell_type": "code",
   "execution_count": 23,
   "metadata": {},
   "outputs": [
    {
     "data": {
      "text/plain": [
       "(0.6, 1.0)"
      ]
     },
     "execution_count": 23,
     "metadata": {},
     "output_type": "execute_result"
    },
    {
     "data": {
      "image/png": "[encoded data removed]",
      "text/plain": [
       "<Figure size 432x288 with 1 Axes>"
      ]
     },
     "metadata": {
      "needs_background": "light"
     },
     "output_type": "display_data"
    }
   ],
   "source": [
    "k0_i_3 = []\n",
    "for i in range(len(ks0)):\n",
    "    if ks0[i] == 3:\n",
    "        k0_i_3.append(i)\n",
    "\n",
    "va_k0_3 = va[k0_i_3]\n",
    "f_k0_3 = flops[k0_i_3]\n",
    "\n",
    "plt.scatter(f_k0_3,va_k0_3)\n",
    "#plt.xlim(1*(10**4),1*(10**8))\n",
    "plt.ylim(0.6,1)"
   ]
  },
  {
   "cell_type": "code",
   "execution_count": 27,
   "metadata": {},
   "outputs": [
    {
     "data": {
      "text/plain": [
       "(0.6, 1.0)"
      ]
     },
     "execution_count": 27,
     "metadata": {},
     "output_type": "execute_result"
    },
    {
     "data": {
      "image/png": "[encoded data removed]",
      "text/plain": [
       "<Figure size 432x288 with 1 Axes>"
      ]
     },
     "metadata": {
      "needs_background": "light"
     },
     "output_type": "display_data"
    }
   ],
   "source": [
    "k0_i_4 = []\n",
    "for i in range(len(ks0)):\n",
    "    if ks0[i] == 4:\n",
    "        k0_i_4.append(i)\n",
    "\n",
    "va_k0_4 = va[k0_i_4]\n",
    "f_k0_4 = flops[k0_i_4]\n",
    "\n",
    "plt.scatter(f_k0_4,va_k0_4)\n",
    "#plt.xlim(1*(10**4),1*(10**8))\n",
    "plt.ylim(0.6,1)"
   ]
  },
  {
   "cell_type": "code",
   "execution_count": null,
   "metadata": {},
   "outputs": [],
   "source": []
  }
 ],
 "metadata": {
  "kernelspec": {
   "display_name": "Python [conda env:.conda-tiny-mlperf-env]",
   "language": "python",
   "name": "conda-env-.conda-tiny-mlperf-env-py"
  },
  "language_info": {
   "codemirror_mode": {
    "name": "ipython",
    "version": 3
   },
   "file_extension": ".py",
   "mimetype": "text/x-python",
   "name": "python",
   "nbconvert_exporter": "python",
   "pygments_lexer": "ipython3",
   "version": "3.7.9"
  }
 },
 "nbformat": 4,
 "nbformat_minor": 4
}
